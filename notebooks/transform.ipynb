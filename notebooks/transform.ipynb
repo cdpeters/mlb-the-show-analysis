{
 "cells": [
  {
   "cell_type": "code",
   "execution_count": null,
   "id": "91ef5782-306a-465a-92e3-d11a87e5d1a0",
   "metadata": {
    "tags": []
   },
   "outputs": [],
   "source": [
    "import pickle\n",
    "import re\n",
    "from pathlib import Path\n",
    "from pprint import pprint\n",
    "\n",
    "# import pendulum\n",
    "import pandas as pd\n",
    "from pandas import DataFrame\n",
    "from selectolax.parser import HTMLParser\n",
    "\n",
    "from classes import BattingBoxscore, GameLog, HomeAwayData, Linescore, PitchingBoxscore"
   ]
  },
  {
   "cell_type": "markdown",
   "id": "6c937d9a-63b9-4e8f-b047-60be2c8c9b33",
   "metadata": {},
   "source": [
    "### Read from CSV"
   ]
  },
  {
   "cell_type": "code",
   "execution_count": null,
   "id": "9b9325b6-e7b3-4bf6-98a7-bc43bd30f685",
   "metadata": {
    "tags": []
   },
   "outputs": [],
   "source": [
    "base_path = Path(\"../data\").resolve()\n",
    "\n",
    "with open(base_path / \"extract_vars.pickle\", \"rb\") as f:\n",
    "    extract_vars = pickle.load(f)\n",
    "\n",
    "game_stats_parser_html = extract_vars[0]\n",
    "table_names = extract_vars[1]\n",
    "game_stats_parser = HTMLParser(game_stats_parser_html)"
   ]
  },
  {
   "cell_type": "code",
   "execution_count": null,
   "id": "7e0e8027-1f26-49e0-a223-0ee95632d44a",
   "metadata": {
    "tags": []
   },
   "outputs": [],
   "source": [
    "game_tables = [pd.read_csv(base_path / f\"{name}.csv\") for name in table_names]"
   ]
  },
  {
   "cell_type": "markdown",
   "id": "54772d95-ba58-406c-af52-8e6646f74a42",
   "metadata": {},
   "source": [
    "## Linescore"
   ]
  },
  {
   "cell_type": "code",
   "execution_count": null,
   "id": "cabb8ff0-e454-4251-bc05-1ad12c880aea",
   "metadata": {
    "tags": []
   },
   "outputs": [],
   "source": [
    "linescore = Linescore(game_tables[0])"
   ]
  },
  {
   "cell_type": "code",
   "execution_count": null,
   "id": "e367cfc0-d68c-4223-bc6a-743aa331d5a0",
   "metadata": {
    "tags": []
   },
   "outputs": [],
   "source": [
    "linescore.linescore"
   ]
  },
  {
   "cell_type": "markdown",
   "id": "1ba60ff1-9522-4bba-903d-7e74dbe03b35",
   "metadata": {},
   "source": [
    "## Boxscores\n",
    "#### RegEx Patterns"
   ]
  },
  {
   "cell_type": "code",
   "execution_count": null,
   "id": "13188a91-f169-40a9-aae2-bf2f90de8768",
   "metadata": {
    "tags": []
   },
   "outputs": [],
   "source": [
    "batter_names_re = re.compile(r\"([a-z]-)?(?P<name>.+),\")\n",
    "period_re = re.compile(r\"\\.{1}\")\n",
    "abbreviated_re = re.compile(r\"(?P<name>.+)(\\.{3})\")\n",
    "ellipsis_re = re.compile(r\"\\.{3}\")\n",
    "pitching_stat_re = re.compile(r\"(?P<parenthesis> \\((?P<stat>\\w+)\\))\")"
   ]
  },
  {
   "cell_type": "markdown",
   "id": "c6e56702-d7df-4f34-ab86-f55c83e31034",
   "metadata": {},
   "source": [
    "### Batting Boxscores"
   ]
  },
  {
   "cell_type": "code",
   "execution_count": null,
   "id": "9481ec10-01b1-452e-8639-1b807b99dbbe",
   "metadata": {
    "tags": []
   },
   "outputs": [],
   "source": [
    "batting_boxscore_raw = HomeAwayData(game_tables[1], game_tables[3])"
   ]
  },
  {
   "cell_type": "code",
   "execution_count": null,
   "id": "44b1be16-14b8-404d-8007-3d9e4aa94e1b",
   "metadata": {
    "tags": []
   },
   "outputs": [],
   "source": [
    "def clean_batting_boxscore(boxscore_raw: DataFrame):\n",
    "    \"\"\"Clean the raw batting boxscore.\"\"\"\n",
    "    boxscore = boxscore_raw.copy()\n",
    "    boxscore = boxscore.drop(columns=\"AVG\")\n",
    "\n",
    "    # Clean the batter names using the `batter_names_re` pattern\n",
    "    hitters = boxscore.iloc[:-1, boxscore.columns.get_loc(\"Batter\")]\n",
    "    boxscore.iloc[:-1, boxscore.columns.get_loc(\"Batter\")] = hitters.str.extract(\n",
    "        batter_names_re.pattern\n",
    "    )[\"name\"]\n",
    "\n",
    "    boxscore = boxscore.set_index(\"Batter\")\n",
    "    boxscore.index.name = None\n",
    "\n",
    "    return boxscore"
   ]
  },
  {
   "cell_type": "code",
   "execution_count": null,
   "id": "85750cc0-2505-426b-b1d1-dcad67578b3b",
   "metadata": {
    "tags": []
   },
   "outputs": [],
   "source": [
    "# batting_boxscore = clean_batting_boxscore(batting_boxscore_raw.away)\n",
    "# batting_boxscore\n",
    "\n",
    "batting = BattingBoxscore(batting_boxscore_raw)\n",
    "batting.boxscore_raw[\"home\"]"
   ]
  },
  {
   "cell_type": "markdown",
   "id": "682453fa-29f2-4c24-873f-a3190cf1b863",
   "metadata": {},
   "source": [
    "#### Periods in names removed"
   ]
  },
  {
   "cell_type": "code",
   "execution_count": null,
   "id": "c60d3948-2534-4552-9cf5-0d8dc944638e",
   "metadata": {
    "tags": []
   },
   "outputs": [],
   "source": [
    "def generate_replacement_data(players):\n",
    "    \"\"\"Generate the to_be_replaced and replacement names Series.\"\"\"\n",
    "    # All names with any periods removed.\n",
    "    batters_no_periods = batters_home.str.replace(period_re.pattern, \"\", regex=True)\n",
    "    # Names that have periods.\n",
    "    batters_to_replace = batters_home[\n",
    "        batters_home.str.contains(period_re.pattern, regex=True)\n",
    "    ]\n",
    "    # Names that have periods, now with the periods removed.\n",
    "    batters_replacements = batters_to_replace.str.replace(\n",
    "        period_re.pattern, \"\", regex=True\n",
    "    )\n",
    "\n",
    "    return batters_no_periods, batters_to_replace, batters_replacements"
   ]
  },
  {
   "cell_type": "code",
   "execution_count": null,
   "id": "a8dc5a3e-6d24-4359-b3f9-843ce8470501",
   "metadata": {
    "tags": []
   },
   "outputs": [],
   "source": [
    "batters_home = pd.Series(batting.boxscore.home.index)\n",
    "(\n",
    "    batters_no_periods,\n",
    "    batters_to_replace,\n",
    "    batters_replacements,\n",
    ") = generate_replacement_data(batters_home)"
   ]
  },
  {
   "cell_type": "markdown",
   "id": "3d857fe8-9a2b-41a3-ab36-2afa77b3d574",
   "metadata": {},
   "source": [
    "### Only Batters With Periods In Their Names\n",
    "#### With Periods"
   ]
  },
  {
   "cell_type": "code",
   "execution_count": null,
   "id": "30af2f44-0e0f-4549-b1f1-b4ea2f6b213a",
   "metadata": {
    "tags": []
   },
   "outputs": [],
   "source": [
    "batters_to_replace = batters_home[\n",
    "    batters_home.str.contains(period_re.pattern, regex=True)\n",
    "]\n",
    "batters_to_replace"
   ]
  },
  {
   "cell_type": "markdown",
   "id": "5f4c1745-646b-4813-8ea8-68a336546772",
   "metadata": {},
   "source": [
    "#### Without Periods"
   ]
  },
  {
   "cell_type": "code",
   "execution_count": null,
   "id": "76887e3a-a75f-4b90-8577-53d328871a2f",
   "metadata": {
    "tags": []
   },
   "outputs": [],
   "source": [
    "batters_replacements = batters_to_replace.str.replace(period_re.pattern, \"\", regex=True)\n",
    "batters_replacements"
   ]
  },
  {
   "cell_type": "markdown",
   "id": "3feffa95-1155-4e8d-92ce-2dd6862d85f1",
   "metadata": {
    "tags": []
   },
   "source": [
    "### Pitching Boxscores"
   ]
  },
  {
   "cell_type": "code",
   "execution_count": null,
   "id": "e0552eaa-e189-484c-af1a-db1dcd0398de",
   "metadata": {
    "tags": []
   },
   "outputs": [],
   "source": [
    "pitching_boxscore_raw = HomeAwayData(game_tables[2], game_tables[4])"
   ]
  },
  {
   "cell_type": "code",
   "execution_count": null,
   "id": "595af590-4562-4e42-a7a6-4438a9fc5317",
   "metadata": {
    "tags": []
   },
   "outputs": [],
   "source": [
    "# df = pitching_boxscore_raw.away\n",
    "\n",
    "# df.iloc[2,0] = \"WoodsRicha\"\n",
    "# df.iloc[4,0] = \"Montes de \"\n",
    "# df.iloc[6,0] = \"De Los San\"\n",
    "# df.iloc[7,0] = \"Ponce de L\"\n",
    "# pitching_boxscore_raw.away = df"
   ]
  },
  {
   "cell_type": "code",
   "execution_count": null,
   "id": "5258c1d4-ad13-4bbd-9897-bfb49ed5bc84",
   "metadata": {
    "tags": []
   },
   "outputs": [],
   "source": [
    "pitching_boxscore_raw.away"
   ]
  },
  {
   "cell_type": "code",
   "execution_count": null,
   "id": "75113369-e383-432b-b0e2-026b34c3b523",
   "metadata": {
    "tags": []
   },
   "outputs": [],
   "source": [
    "pitching_categories = [\"W\", \"L\", \"S\", \"BS\", \"H\"]\n",
    "\n",
    "\n",
    "def clean_pitching_boxscore(boxscore_raw: DataFrame):\n",
    "    \"\"\"Clean the raw pitching boxscore.\"\"\"\n",
    "    boxscore = boxscore_raw.copy()\n",
    "    boxscore = boxscore.drop(columns=\"ERA\")\n",
    "\n",
    "    # Generate extended pitching stats from the game decisions in parentheses.\n",
    "    parentheses_groups = boxscore[\"Pitcher\"].str.extract(pitching_stat_re.pattern)\n",
    "    extended_stats = pd.get_dummies(parentheses_groups[\"stat\"])\n",
    "\n",
    "    # Add in the game decisions that were not awarded in this game as columns of zeros.\n",
    "    for cat in pitching_categories:\n",
    "        if cat not in extended_stats.columns:\n",
    "            extended_stats[cat] = 0\n",
    "    # Reorder the columns so that the extended stats are in a uniform order.\n",
    "    extended_stats = extended_stats[pitching_categories]\n",
    "\n",
    "    # Tally the totals for the newly added pitch decision stats.\n",
    "    extended_stats.iloc[len(extended_stats) - 1] = extended_stats.sum()\n",
    "\n",
    "    # Concatenate the extended stats onto the boxscore.\n",
    "    boxscore = pd.concat([boxscore, extended_stats], axis=1)\n",
    "\n",
    "    # Remove the parentheses game decisions.\n",
    "    boxscore[\"Pitcher\"] = boxscore[\"Pitcher\"].str.replace(\n",
    "        pitching_stat_re.pattern, \"\", regex=True\n",
    "    )\n",
    "\n",
    "    # Collect any\n",
    "    abbreviated_names = boxscore.Pitcher.str.extract(abbreviated_re.pattern)[\"name\"]\n",
    "    abbreviated_names = abbreviated_names[abbreviated_names.notna()]\n",
    "\n",
    "    boxscore[\"Pitcher\"] = boxscore[\"Pitcher\"].str.replace(\n",
    "        ellipsis_re.pattern, \"\", regex=True\n",
    "    )\n",
    "\n",
    "    boxscore = boxscore.set_index(\"Pitcher\")\n",
    "    boxscore.index.name = None\n",
    "\n",
    "    return boxscore, abbreviated_names"
   ]
  },
  {
   "cell_type": "code",
   "execution_count": null,
   "id": "111b0ffd-9eda-4743-a4ad-9471209860de",
   "metadata": {
    "tags": []
   },
   "outputs": [],
   "source": [
    "# pitching_boxscore, abbreviated_names = clean_pitching_boxscore(\n",
    "#     pitching_boxscore_raw.away\n",
    "# )\n",
    "# pitching_boxscore\n",
    "\n",
    "pitching = PitchingBoxscore(HomeAwayData(game_tables[2], game_tables[4]))\n",
    "pitching.boxscore.home"
   ]
  },
  {
   "cell_type": "code",
   "execution_count": null,
   "id": "f8022453-711c-4b6b-ad20-e5bfff131076",
   "metadata": {
    "tags": []
   },
   "outputs": [],
   "source": [
    "pitching.abbreviated_names.home"
   ]
  },
  {
   "cell_type": "markdown",
   "id": "33af307c-1e5a-4aec-bdad-d0b18c7e215d",
   "metadata": {},
   "source": [
    "#### Game Log"
   ]
  },
  {
   "cell_type": "code",
   "execution_count": null,
   "id": "e30e7e9a-1950-46a1-abe8-aed199cd4350",
   "metadata": {
    "tags": []
   },
   "outputs": [],
   "source": [
    "game_log_section = game_stats_parser.css(\"div.section-block\")[-1]\n",
    "game_log = GameLog(batters_home, game_log_section.html)"
   ]
  },
  {
   "cell_type": "code",
   "execution_count": null,
   "id": "23db7362-3e68-4a79-b15c-3edd4661087f",
   "metadata": {
    "tags": []
   },
   "outputs": [],
   "source": [
    "pprint(game_log.inning_stats[\"Inning 1\"])"
   ]
  },
  {
   "cell_type": "code",
   "execution_count": null,
   "id": "3c1045be-929b-498c-834e-987f8c4ad724",
   "metadata": {
    "tags": []
   },
   "outputs": [],
   "source": [
    "game_log.misc"
   ]
  },
  {
   "cell_type": "code",
   "execution_count": null,
   "id": "8b90e2ad-5162-440a-a4be-e407a52b6673",
   "metadata": {
    "tags": []
   },
   "outputs": [],
   "source": [
    "log = game_log.log\n",
    "for to_replace, replacement in zip(\n",
    "    game_log.batters_to_replace, game_log.batters_replacements\n",
    "):\n",
    "    print(\"old value:\", to_replace)\n",
    "    print(\"new value:\", replacement)\n",
    "    log = log.replace(to_replace, replacement)"
   ]
  },
  {
   "cell_type": "markdown",
   "id": "dbdb4916-8515-4379-9ecc-a22469e8a78c",
   "metadata": {},
   "source": [
    "#### To Do:\n",
    "##### BattingBoxscore\n",
    "- generate `batters_to_replace` (home and away)\n",
    "- generate `batters_replacements` (home and away)\n",
    "- create `batters_to_replace` property with read access\n",
    "- create `batters_replacements` property with read access\n",
    "- create function to get the `abbreviated_names`\n",
    "\n",
    "\n",
    "##### PitchingBoxscore\n",
    "- generate `pitchers_to_replace` (home and away)\n",
    "- generate `pitchers_replacements` (home and away)\n",
    "- create `pitchers_to_replace` property with read access\n",
    "- create `pitchers_replacements` property with read access\n",
    "- create function to get the `abbreviated_names`\n",
    "\n",
    "##### GameLog\n",
    "- create function that takes `to_replace` and `replacements` Series and does the replacement in the game log\n",
    "- create function that takes in `abbreviated_names` and finds and returns the full names (to be used by the Boxscores)\n",
    "- create function that generates the extended hitting stats from the game log"
   ]
  },
  {
   "cell_type": "code",
   "execution_count": null,
   "id": "de6c8845-721a-4399-a2e0-8672430c1e19",
   "metadata": {
    "tags": []
   },
   "outputs": [],
   "source": [
    "game_log.log[:350]"
   ]
  },
  {
   "cell_type": "code",
   "execution_count": null,
   "id": "f21da486-9680-4df0-9219-2818a23aa520",
   "metadata": {
    "tags": []
   },
   "outputs": [],
   "source": [
    "log[:350]"
   ]
  },
  {
   "cell_type": "code",
   "execution_count": null,
   "id": "b559e92e-c5eb-43ef-b0db-dcd6714b12c6",
   "metadata": {},
   "outputs": [],
   "source": [
    "log"
   ]
  },
  {
   "cell_type": "code",
   "execution_count": null,
   "id": "336c6993-8045-457c-a264-ba4a92dd1e1e",
   "metadata": {},
   "outputs": [],
   "source": []
  }
 ],
 "metadata": {
  "kernelspec": {
   "display_name": "mlbTheShow",
   "language": "python",
   "name": "mlbtheshow"
  },
  "language_info": {
   "codemirror_mode": {
    "name": "ipython",
    "version": 3
   },
   "file_extension": ".py",
   "mimetype": "text/x-python",
   "name": "python",
   "nbconvert_exporter": "python",
   "pygments_lexer": "ipython3",
   "version": "3.11.0"
  }
 },
 "nbformat": 4,
 "nbformat_minor": 5
}
