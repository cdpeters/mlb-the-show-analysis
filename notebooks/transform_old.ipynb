{
 "cells": [
  {
   "cell_type": "code",
   "execution_count": null,
   "id": "91ef5782-306a-465a-92e3-d11a87e5d1a0",
   "metadata": {
    "tags": []
   },
   "outputs": [],
   "source": [
    "import pickle\n",
    "import re\n",
    "from pathlib import Path\n",
    "from pprint import pprint\n",
    "\n",
    "# import pendulum\n",
    "import pandas as pd\n",
    "from selectolax.parser import HTMLParser\n",
    "\n",
    "from classes import GameLog"
   ]
  },
  {
   "cell_type": "markdown",
   "id": "6c937d9a-63b9-4e8f-b047-60be2c8c9b33",
   "metadata": {},
   "source": [
    "### Read from CSV"
   ]
  },
  {
   "cell_type": "code",
   "execution_count": null,
   "id": "9b9325b6-e7b3-4bf6-98a7-bc43bd30f685",
   "metadata": {
    "tags": []
   },
   "outputs": [],
   "source": [
    "base_path = Path(\"../data\").resolve()\n",
    "\n",
    "with open(base_path / \"extract_vars.pickle\", \"rb\") as f:\n",
    "    extract_vars = pickle.load(f)\n",
    "\n",
    "game_stats_parser_html = extract_vars[0]\n",
    "boxscore_names = extract_vars[1]\n",
    "game_stats_parser = HTMLParser(game_stats_parser_html)"
   ]
  },
  {
   "cell_type": "code",
   "execution_count": null,
   "id": "7e0e8027-1f26-49e0-a223-0ee95632d44a",
   "metadata": {
    "tags": []
   },
   "outputs": [],
   "source": [
    "game_boxscores = [pd.read_csv(base_path / f\"{name}.csv\") for name in boxscore_names]"
   ]
  },
  {
   "cell_type": "code",
   "execution_count": null,
   "id": "818b69ea-323d-47a4-ab35-d5c0f73329b9",
   "metadata": {
    "tags": []
   },
   "outputs": [],
   "source": [
    "boxscore = game_boxscores[0]\n",
    "boxscore"
   ]
  },
  {
   "cell_type": "markdown",
   "id": "5b574c78-63e3-4dbd-9892-3b342b6e3b1b",
   "metadata": {},
   "source": [
    "### Clean Tables\n",
    "#### Linescore"
   ]
  },
  {
   "cell_type": "code",
   "execution_count": null,
   "id": "29bb37df-b659-46cd-a48b-39f20b9bb865",
   "metadata": {
    "tags": []
   },
   "outputs": [],
   "source": [
    "def clean_linescore(linescore_raw: pd.DataFrame) -> pd.DataFrame:\n",
    "    \"\"\"Clean raw linescore.\"\"\"\n",
    "    linescore = linescore_raw.copy()\n",
    "\n",
    "    linescore = linescore.drop(columns=\"0\")\n",
    "    linescore.iloc[0, :3] = pd.Series([\"team\", \"gamer\", \"result\"])\n",
    "    linescore.columns = pd.Index(linescore.iloc[0])\n",
    "    linescore = linescore.drop(index=0)\n",
    "    linescore.insert(loc=0, column=\"gamer\", value=linescore.pop(\"gamer\"))\n",
    "    linescore.columns = linescore.columns.astype(str)\n",
    "\n",
    "    linescore.index = pd.Index([\"away\", \"home\"])\n",
    "\n",
    "    cols_to_numeric = [\"R\", \"H\", \"E\"]\n",
    "    linescore[cols_to_numeric] = linescore[cols_to_numeric].apply(pd.to_numeric)\n",
    "    linescore.index.name = None\n",
    "\n",
    "    return linescore"
   ]
  },
  {
   "cell_type": "code",
   "execution_count": null,
   "id": "1ee765ca-c21e-4a7f-82ae-bb0c178e079e",
   "metadata": {
    "tags": []
   },
   "outputs": [],
   "source": [
    "linescore_raw = game_boxscores[0]\n",
    "linescore = clean_linescore(linescore_raw)\n",
    "linescore"
   ]
  },
  {
   "cell_type": "markdown",
   "id": "3ef04992-88e3-4922-b513-8f156ed07fd2",
   "metadata": {},
   "source": [
    "#### Batting Boxscores"
   ]
  },
  {
   "cell_type": "code",
   "execution_count": null,
   "id": "c5317e4e-e0c3-45de-b57a-718abb02b5d5",
   "metadata": {},
   "outputs": [],
   "source": [
    "batting_raw = game_boxscores[1]\n",
    "batting_raw"
   ]
  },
  {
   "cell_type": "code",
   "execution_count": null,
   "id": "a6c6bdbc-5f14-4b85-b70c-3fea2a24d22d",
   "metadata": {
    "tags": []
   },
   "outputs": [],
   "source": [
    "batters = batting_raw[\"Batter\"]\n",
    "batters = batters.drop(batters.tail(1).index)\n",
    "batters"
   ]
  },
  {
   "cell_type": "markdown",
   "id": "1ba60ff1-9522-4bba-903d-7e74dbe03b35",
   "metadata": {},
   "source": [
    "### Batters Without Position Info\n",
    "#### RegEx Patterns"
   ]
  },
  {
   "cell_type": "code",
   "execution_count": null,
   "id": "13188a91-f169-40a9-aae2-bf2f90de8768",
   "metadata": {
    "tags": []
   },
   "outputs": [],
   "source": [
    "name_re = re.compile(r\"([a-z]-)?(.+),\")\n",
    "period_re = re.compile(r\"\\.{1}\")\n",
    "ellipsis_re = re.compile(r\"(.+)\\.{3}(.+)\")"
   ]
  },
  {
   "cell_type": "markdown",
   "id": "c6d07315-5e1d-4173-ad3b-1dc46158b108",
   "metadata": {},
   "source": [
    "#### Include periods in names that have them"
   ]
  },
  {
   "cell_type": "code",
   "execution_count": null,
   "id": "45a48564-32e6-472e-bd99-2defc3ae0b80",
   "metadata": {
    "tags": []
   },
   "outputs": [],
   "source": [
    "batters = batters.str.extract(name_re.pattern)[1]\n",
    "batters"
   ]
  },
  {
   "cell_type": "markdown",
   "id": "c0975ad1-cc23-49fd-a4fb-80f8be2a0894",
   "metadata": {},
   "source": [
    "#### Periods in names removed"
   ]
  },
  {
   "cell_type": "code",
   "execution_count": null,
   "id": "f64ce58c-f3ce-4e48-986d-d4f15276acff",
   "metadata": {
    "tags": []
   },
   "outputs": [],
   "source": [
    "batters_clean = batters.str.replace(period_re.pattern, \"\", regex=True)\n",
    "batters_clean"
   ]
  },
  {
   "cell_type": "markdown",
   "id": "e24a3006-0120-406d-b7c3-212e0b3bb12b",
   "metadata": {},
   "source": [
    "### Only Batters With Periods In Their Names\n",
    "#### With Periods"
   ]
  },
  {
   "cell_type": "code",
   "execution_count": null,
   "id": "e75a6b26-2ba8-4b08-ba3c-fa5bc5ff9028",
   "metadata": {
    "tags": []
   },
   "outputs": [],
   "source": [
    "batters_to_replace = batters[batters.str.contains(period_re.pattern, regex=True)]\n",
    "batters_to_replace"
   ]
  },
  {
   "cell_type": "markdown",
   "id": "1084b6a0-a0fc-45d8-ac38-b7c6a8e5e318",
   "metadata": {},
   "source": [
    "#### Without Periods"
   ]
  },
  {
   "cell_type": "code",
   "execution_count": null,
   "id": "6ef4f1a6-e9f5-4fda-950b-d130fa32e56e",
   "metadata": {
    "tags": []
   },
   "outputs": [],
   "source": [
    "batters_replacements = batters_to_replace.str.replace(period_re.pattern, \"\", regex=True)\n",
    "batters_replacements\n",
    "for b in batters_replacements:\n",
    "    print(b)"
   ]
  },
  {
   "cell_type": "markdown",
   "id": "e1135d23-8d46-4894-98dc-cab58180764e",
   "metadata": {},
   "source": [
    "#### Pitching Boxscores"
   ]
  },
  {
   "cell_type": "code",
   "execution_count": null,
   "id": "47a54700-7d7c-4833-95ee-d8b1dc14420e",
   "metadata": {},
   "outputs": [],
   "source": [
    "pitching_raw = game_boxscores[2]\n",
    "pitchers = pitching_raw[\"Pitcher\"]\n",
    "pitchers.to_list()"
   ]
  },
  {
   "cell_type": "code",
   "execution_count": null,
   "id": "a0e4cfb5-b4f4-417a-88e4-597b6b4f28ca",
   "metadata": {
    "tags": []
   },
   "outputs": [],
   "source": [
    "pitchers = pitching_raw[\"Pitcher\"]\n",
    "pitchers\n",
    "# pitchers = pitchers.drop(pitchers.tail(1).index)\n",
    "# pitchers[pitchers.str.contains(r\"\\.{1}\")]\n",
    "# Regex to remove ..."
   ]
  },
  {
   "cell_type": "markdown",
   "id": "78e50fda-cab8-4f85-8a9f-4886bd8614ff",
   "metadata": {},
   "source": [
    "#### Compile Relevant RegEx's for Game Log Processing"
   ]
  },
  {
   "cell_type": "code",
   "execution_count": null,
   "id": "8dd716e6-1a92-40ed-8f29-2ce035c827d4",
   "metadata": {
    "tags": []
   },
   "outputs": [],
   "source": [
    "patterns = {\n",
    "    \"parenthesis_re\": re.compile(r\"\\s\\([\\w\\s%-]+\\)\"),\n",
    "    \"inning_stats_re\": re.compile(\n",
    "        r\"Runs: \\d+ Hits: \\d+ Walks: \\d+ Errors: \\d+ Pitches: \\d+\"\n",
    "    ),\n",
    "    \"game_difficulty_re\": re.compile(r\"Hitting Difficulty is (?P<difficulty>[\\w\\s-]+)\"),\n",
    "}"
   ]
  },
  {
   "cell_type": "markdown",
   "id": "736950ef-01c7-476e-9c21-007fb9cd7fe8",
   "metadata": {},
   "source": [
    "#### Split Game Log"
   ]
  },
  {
   "cell_type": "code",
   "execution_count": null,
   "id": "d7c8a098-4d70-40ba-9061-af6260f2ddbc",
   "metadata": {
    "tags": []
   },
   "outputs": [],
   "source": [
    "# Raw game log section.\n",
    "game_log_section = game_stats_parser.css(\"div.section-block\")[-1]\n",
    "game_log_section = game_log_section.html\n",
    "\n",
    "# Remove the leading div and h3 tag text. Remove any asterisk characters. Remove\n",
    "# information contained in parenthesis.\n",
    "game_log_section = game_log_section.replace(\n",
    "    '<div class=\"section-block\">\\n<h3>Game Log</h3>\\n', \"\"\n",
    ")\n",
    "game_log_section = game_log_section.replace(\"*\", \"\")\n",
    "game_log_section = patterns[\"parenthesis_re\"].sub(\"\", game_log_section)\n",
    "\n",
    "# Split game log section into the game log and the supplementary information.\n",
    "game_log_section = game_log_section.partition(\"Game Log Legend\")\n",
    "game_log = game_log_section[0]\n",
    "game_misc = game_log_section[1] + game_log_section[2]"
   ]
  },
  {
   "cell_type": "markdown",
   "id": "48515c54-ef62-43b3-8388-71984802ccd8",
   "metadata": {},
   "source": [
    "#### Game Difficulty"
   ]
  },
  {
   "cell_type": "code",
   "execution_count": null,
   "id": "e51e9a3b-c294-48a5-aca1-65c62b4246d6",
   "metadata": {},
   "outputs": [],
   "source": [
    "# Find the game difficulty which is in the second half of the game log section.\n",
    "match = patterns[\"game_difficulty_re\"].search(game_misc)\n",
    "if match:\n",
    "    difficulty = match.group(\"difficulty\")\n",
    "else:\n",
    "    difficulty = None\n",
    "difficulty"
   ]
  },
  {
   "cell_type": "markdown",
   "id": "eed6e71b-ded4-41ca-8ec5-6c76d338ca02",
   "metadata": {},
   "source": [
    "#### Prepare Game Log String"
   ]
  },
  {
   "cell_type": "code",
   "execution_count": null,
   "id": "cbc9e0cb-3ee3-4cd3-bb7e-9c0f23064220",
   "metadata": {
    "tags": []
   },
   "outputs": [],
   "source": [
    "# Split on the <br> tag text, empty strings and whitespace are dealt with as well.\n",
    "game_log_split_full = game_log.split(\"<br>\")\n",
    "game_log_split_full = [line.strip() for line in game_log_split_full if line]\n",
    "game_log_split = [\n",
    "    line for line in game_log_split_full if not patterns[\"inning_stats_re\"].match(line)\n",
    "]\n",
    "inning_stats = [\n",
    "    line for line in game_log_split_full if patterns[\"inning_stats_re\"].match(line)\n",
    "]"
   ]
  },
  {
   "cell_type": "code",
   "execution_count": null,
   "id": "eb6bfced-4f9f-448f-9f5e-d49b632ef726",
   "metadata": {
    "tags": []
   },
   "outputs": [],
   "source": [
    "game_log = (\" \").join(game_log_split)\n",
    "game_log"
   ]
  },
  {
   "cell_type": "markdown",
   "id": "ad2491f1-4a3d-4391-baf5-b11776fdc220",
   "metadata": {},
   "source": [
    "#### Game Log"
   ]
  },
  {
   "cell_type": "code",
   "execution_count": null,
   "id": "e30e7e9a-1950-46a1-abe8-aed199cd4350",
   "metadata": {
    "tags": []
   },
   "outputs": [],
   "source": [
    "game_log_section = game_stats_parser.css(\"div.section-block\")[-1]\n",
    "game_log = GameLog(batters, game_log_section.html)"
   ]
  },
  {
   "cell_type": "code",
   "execution_count": null,
   "id": "20cd983a-cbae-4f44-bfa8-365c3c05c6cf",
   "metadata": {
    "tags": []
   },
   "outputs": [],
   "source": [
    "game_log.batters_to_replace"
   ]
  },
  {
   "cell_type": "code",
   "execution_count": null,
   "id": "e7114358-b428-49c1-a43d-1c08b08da314",
   "metadata": {},
   "outputs": [],
   "source": [
    "game_log.batters_replacements"
   ]
  },
  {
   "cell_type": "code",
   "execution_count": null,
   "id": "cf2596c4-f325-4ca6-8778-b623384acd4d",
   "metadata": {
    "tags": []
   },
   "outputs": [],
   "source": [
    "inning_number_re = re.compile(r\"^(?P<inning>Inning \\d+):\")\n",
    "team_re = re.compile(r\"^(?P<team>.+) batting\\.\")\n",
    "inning_stats_re = re.compile(r\"(?P<stat>[\\w ]+): (?P<value>\\d+) ?\")"
   ]
  },
  {
   "cell_type": "code",
   "execution_count": null,
   "id": "3232531b-00a5-4423-aff6-dc355220c906",
   "metadata": {
    "tags": []
   },
   "outputs": [],
   "source": [
    "def process_inning_stats(game_log: GameLog) -> dict[str, dict[str, dict[str, int]]]:\n",
    "    \"\"\"Separate, by inning and team, the inning stat lines from the game.\"\"\"\n",
    "    inning_stats: dict[str, dict[str, dict[str, int]]] = {}\n",
    "\n",
    "    for line in game_log.log_split:\n",
    "        inning_number_match = inning_number_re.match(line)\n",
    "        team_match = team_re.match(line)\n",
    "        inning_stats_matches = inning_stats_re.finditer(line)\n",
    "\n",
    "        if inning_number_match:\n",
    "            inning = inning_number_match.group(\"inning\").replace(\":\", \"\")\n",
    "            inning_stats[inning] = {}\n",
    "\n",
    "        elif team_match:\n",
    "            team = team_match.group(\"team\")\n",
    "            inning_stats[inning][team] = {}\n",
    "\n",
    "        elif inning_stats_matches:\n",
    "            inning_stats[inning][team] = {\n",
    "                match.group(\"stat\"): int(match.group(\"value\"))\n",
    "                for match in inning_stats_matches\n",
    "            }\n",
    "    return inning_stats"
   ]
  },
  {
   "cell_type": "code",
   "execution_count": null,
   "id": "5d061610-6f9b-4573-a5e5-2dc4d6728c7a",
   "metadata": {
    "tags": []
   },
   "outputs": [],
   "source": [
    "a = process_inning_stats(game_log)\n",
    "pprint(a)"
   ]
  },
  {
   "cell_type": "code",
   "execution_count": null,
   "id": "eb4a26c9-d7c2-4b0b-b64e-693f4c387414",
   "metadata": {},
   "outputs": [],
   "source": []
  },
  {
   "cell_type": "code",
   "execution_count": null,
   "id": "a33a714e-2055-47ef-b000-746de0ea8faa",
   "metadata": {},
   "outputs": [],
   "source": []
  }
 ],
 "metadata": {
  "kernelspec": {
   "display_name": "mlbTheShow",
   "language": "python",
   "name": "mlbtheshow"
  },
  "language_info": {
   "codemirror_mode": {
    "name": "ipython",
    "version": 3
   },
   "file_extension": ".py",
   "mimetype": "text/x-python",
   "name": "python",
   "nbconvert_exporter": "python",
   "pygments_lexer": "ipython3",
   "version": "3.11.0"
  }
 },
 "nbformat": 4,
 "nbformat_minor": 5
}
