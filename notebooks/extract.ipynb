{
 "cells": [
  {
   "cell_type": "code",
   "execution_count": null,
   "id": "c905ab28-22ca-462e-84a4-f27b8477be20",
   "metadata": {
    "tags": []
   },
   "outputs": [],
   "source": [
    "import logging\n",
    "import re\n",
    "import tomllib\n",
    "from pathlib import Path\n",
    "\n",
    "# import pendulum\n",
    "import pandas as pd\n",
    "from selectolax.parser import HTMLParser\n",
    "from splinter import Browser\n",
    "from splinter.driver.webdriver.chrome import WebDriver\n",
    "from webdriver_manager.chrome import ChromeDriverManager\n",
    "\n",
    "from classes import Gamer\n",
    "from utils import browser_action, retrieve_game_nodes"
   ]
  },
  {
   "cell_type": "markdown",
   "id": "3fdf0b3f-5183-460b-ba5f-52a17f48dfc3",
   "metadata": {},
   "source": [
    "### Set Up Logging"
   ]
  },
  {
   "cell_type": "code",
   "execution_count": null,
   "id": "3e24afa6-ee24-428b-8fe3-42c2113c41a5",
   "metadata": {
    "tags": []
   },
   "outputs": [],
   "source": [
    "logging.basicConfig(\n",
    "    format=\"{levelname:8s} - {module} - {funcName}: {message}\", style=\"{\"\n",
    ")\n",
    "\n",
    "logger_main = logging.getLogger(__name__)\n",
    "logger_main.setLevel(logging.DEBUG)"
   ]
  },
  {
   "cell_type": "markdown",
   "id": "354daa64-df0d-470b-be65-25aee08c2785",
   "metadata": {},
   "source": [
    "### Create Input Data"
   ]
  },
  {
   "cell_type": "code",
   "execution_count": null,
   "id": "84d2151a-cbab-43b3-93fb-aa1b1d974bbc",
   "metadata": {
    "tags": []
   },
   "outputs": [],
   "source": [
    "with open(Path().resolve().parents[0] / \"secrets.toml\", \"rb\") as f:\n",
    "    secrets = tomllib.load(f)\n",
    "\n",
    "gamers: list[Gamer] = [\n",
    "    Gamer(name, gamer_tag) for name, gamer_tag in secrets[\"gamer_ids\"].items()\n",
    "]\n",
    "\n",
    "for gamer in gamers:\n",
    "    print(gamer, \"\\n\")"
   ]
  },
  {
   "cell_type": "markdown",
   "id": "9ff03738-cbde-4c64-844d-fb213d9761df",
   "metadata": {},
   "source": [
    "## Extract\n",
    "### Create Browser Instance"
   ]
  },
  {
   "cell_type": "code",
   "execution_count": null,
   "id": "76ad53e0-9202-4923-93a0-d59c64f85e7d",
   "metadata": {
    "tags": []
   },
   "outputs": [],
   "source": [
    "# Set up Splinter (prep the automated browser).\n",
    "executable_path = {\"executable_path\": ChromeDriverManager().install()}\n",
    "browser: WebDriver = Browser(\"chrome\", **executable_path, headless=False)"
   ]
  },
  {
   "cell_type": "code",
   "execution_count": null,
   "id": "cdb29939-c0bd-4a7e-97f2-cd75217d9752",
   "metadata": {},
   "outputs": [],
   "source": [
    "# def scrape_game_history():\n",
    "#     # 3 loops.\n",
    "#     for gamer in gamers:\n",
    "#         visit(url)\n",
    "\n",
    "#         game_history = retrieve_game_history(browser)\n",
    "#         if not game_history:\n",
    "#             print(\"No game history\")\n",
    "\n",
    "#         # m games per n pages up until the crawler runs into an already seen game.\n",
    "#         for game in game_history:\n",
    "#             if is_cpu_game():\n",
    "#                 continue\n",
    "#             else:\n",
    "#                 collect()\n",
    "\n",
    "# def visit(url):\n",
    "#     browser_action(browser.visit, url=url)\n",
    "\n",
    "# def retrieve_game_history(browser):\n",
    "#     parsed_html = BeautifulSoup(browser.html, \"lxml\")\n",
    "#     return parsed_html.find_all(\"div\", attrs={\"class\": \"mlb22-games-box\"})"
   ]
  },
  {
   "cell_type": "markdown",
   "id": "daa0856f-b104-4473-827f-68e53dda90da",
   "metadata": {},
   "source": [
    "### Visit and Retrieve HTML"
   ]
  },
  {
   "cell_type": "code",
   "execution_count": null,
   "id": "4c456f80-3f91-4210-bfc2-b690759f8bbb",
   "metadata": {
    "tags": []
   },
   "outputs": [],
   "source": [
    "browser_action(browser.visit, url=gamers[0].url_gamer)"
   ]
  },
  {
   "cell_type": "code",
   "execution_count": null,
   "id": "1d43ee08-736e-452e-a178-9361208309de",
   "metadata": {
    "tags": []
   },
   "outputs": [],
   "source": [
    "# Retrieve html.\n",
    "game_history_html = browser.html\n",
    "game_history_parser = HTMLParser(game_history_html)"
   ]
  },
  {
   "cell_type": "markdown",
   "id": "107c40de-eded-40d5-833e-53d8585f125c",
   "metadata": {},
   "source": [
    "### Retrieve Individual Game Nodes"
   ]
  },
  {
   "cell_type": "code",
   "execution_count": null,
   "id": "3b490a8a-55dd-48d4-b713-e4f5102cc2f5",
   "metadata": {
    "tags": []
   },
   "outputs": [],
   "source": [
    "game_nodes, game_history_parser = retrieve_game_nodes(\n",
    "    parser=game_history_parser,\n",
    "    css_selector=\"div.mlb22-games-box\",\n",
    "    browser=browser,\n",
    ")\n",
    "game_html = game_nodes[0].html\n",
    "game_parser = HTMLParser(game_html)"
   ]
  },
  {
   "cell_type": "markdown",
   "id": "b90bdae3-6ae4-4031-85f4-c6ec630007bc",
   "metadata": {},
   "source": [
    "## Individual Game Processing\n",
    "### Game Date"
   ]
  },
  {
   "cell_type": "code",
   "execution_count": null,
   "id": "c94fae16-9ed6-47f2-8be9-bcff43b801d2",
   "metadata": {
    "tags": []
   },
   "outputs": [],
   "source": [
    "date_p_tag = game_parser.css_first(\"p:nth-child(2)\")\n",
    "game_date = date_p_tag.text()\n",
    "game_date"
   ]
  },
  {
   "cell_type": "markdown",
   "id": "18cde9eb-6fa7-4c80-9977-6651f2508620",
   "metadata": {
    "tags": []
   },
   "source": [
    "### View Game href"
   ]
  },
  {
   "cell_type": "code",
   "execution_count": null,
   "id": "b37cdd42-91de-42ef-b0cc-d06b23dfcf82",
   "metadata": {
    "tags": []
   },
   "outputs": [],
   "source": [
    "view_game_a_tag = game_parser.tags(\"a\")\n",
    "view_game_href = view_game_a_tag[-1].attributes[\"href\"]\n",
    "view_game_href"
   ]
  },
  {
   "cell_type": "markdown",
   "id": "e3439cd0-f825-4d29-868d-dffb62cbb76e",
   "metadata": {
    "tags": []
   },
   "source": [
    "### Click the View Game Link"
   ]
  },
  {
   "cell_type": "code",
   "execution_count": null,
   "id": "39addee0-8b74-47c4-9553-19deb432977e",
   "metadata": {
    "tags": []
   },
   "outputs": [],
   "source": [
    "browser_action(browser.links.find_by_href(view_game_href).click)\n",
    "\n",
    "# Retrieve html.\n",
    "game_stats_html = browser.html\n",
    "game_stats_parser = HTMLParser(game_stats_html)"
   ]
  },
  {
   "cell_type": "markdown",
   "id": "f24e3b36-18d5-420e-8fe1-185c78cc8e21",
   "metadata": {
    "tags": []
   },
   "source": [
    "### Collect All Tables"
   ]
  },
  {
   "cell_type": "code",
   "execution_count": null,
   "id": "833968d3-ce79-4e6a-8ed6-48a0a78bb72d",
   "metadata": {
    "tags": []
   },
   "outputs": [],
   "source": [
    "game_data = pd.read_html(game_stats_parser.html)\n",
    "len(game_data)"
   ]
  },
  {
   "cell_type": "code",
   "execution_count": null,
   "id": "fb6f041b-7231-4bf5-9d5f-ee3e6f19e1df",
   "metadata": {
    "tags": []
   },
   "outputs": [],
   "source": [
    "parenthesis_pattern = re.compile(r\"\\s\\([\\w\\s-]+\\)\")\n",
    "num_cap_letter_pattern = re.compile(r\"(\\d+)([A-Z])\")\n",
    "num_space_inn_pattern = re.compile(r\"(\\d+) (Inning)\")\n",
    "inning_stats_pattern = re.compile(\n",
    "    r\"Runs: \\d+ Hits: \\d+ Walks: \\d+ Errors: \\d+ Pitches: \\d+\"\n",
    ")"
   ]
  },
  {
   "cell_type": "code",
   "execution_count": null,
   "id": "538c0197-b195-4c0c-8040-eddab071016e",
   "metadata": {
    "tags": []
   },
   "outputs": [],
   "source": [
    "# Raw game log section.\n",
    "game_log_section = game_stats_parser.css(\"div.section-block\")[-1]\n",
    "game_log_section = game_log_section.html  # .text(strip=True)\n",
    "\n",
    "# Split game log section into the game log and the supplementary information.\n",
    "game_log_section = game_log_section.split(\"Game Log Legend\")\n",
    "\n",
    "# Find the game difficulty.\n",
    "match = re.search(r\"Hitting Difficulty is ([\\w\\s-]+)\", game_log_section[-1])\n",
    "difficulty = match.group(1)\n",
    "# difficulty\n",
    "\n",
    "# Assign the game log portion and remove any asterisk characters.\n",
    "game_log = game_log_section[0]\n",
    "\n",
    "# Remove the leading div and h3 tag text.\n",
    "game_log = game_log.replace('<div class=\"section-block\">\\n<h3>Game Log</h3>\\n', \"\")\n",
    "\n",
    "# Remove any asterisk characters.\n",
    "game_log = game_log.replace(\"*\", \"\")\n",
    "\n",
    "# # Remove information contained in parenthesis.\n",
    "game_log = re.sub(parenthesis_pattern, \"\", game_log)\n",
    "\n",
    "# Split on the <br> tag text\n",
    "game_log_split = game_log.split(\"<br>\")\n",
    "game_log_split = [line.strip() for line in game_log_split if line]\n",
    "\n",
    "game_log_split = [\n",
    "    line for line in game_log_split if not re.match(inning_stats_pattern, line)\n",
    "]\n",
    "inning_stats = [line for line in game_log_split if re.match(inning_stats_pattern, line)]"
   ]
  },
  {
   "cell_type": "code",
   "execution_count": null,
   "id": "d7526e55-0a08-4f82-9f55-98b5d33fb9c9",
   "metadata": {
    "tags": []
   },
   "outputs": [],
   "source": [
    "game_log = (\" \").join(game_log_split)"
   ]
  },
  {
   "cell_type": "code",
   "execution_count": null,
   "id": "745aae60-47da-4263-80ca-7f2a27e822da",
   "metadata": {
    "tags": []
   },
   "outputs": [],
   "source": [
    "game_log"
   ]
  },
  {
   "cell_type": "code",
   "execution_count": null,
   "id": "ecd23f2e-90d9-4509-90d9-9bddb20862cd",
   "metadata": {
    "tags": []
   },
   "outputs": [],
   "source": [
    "boxscore_names = [\n",
    "    \"linescore\",\n",
    "    \"away_hitting\",\n",
    "    \"away_pitching\",\n",
    "    \"home_hitting\",\n",
    "    \"home_pitching\",\n",
    "]"
   ]
  },
  {
   "cell_type": "markdown",
   "id": "5c771993-ec9a-4735-8d9d-3f9dfd59cfbe",
   "metadata": {},
   "source": [
    "### Write to CSV"
   ]
  },
  {
   "cell_type": "code",
   "execution_count": null,
   "id": "ca26407d-08b6-4d01-9db0-7899928c3387",
   "metadata": {
    "tags": []
   },
   "outputs": [],
   "source": [
    "for name, boxscore in zip(boxscore_names, game_data):\n",
    "    path = f\"{name}.csv\"\n",
    "    boxscore.to_csv(path, index=False)"
   ]
  },
  {
   "cell_type": "markdown",
   "id": "3dcc50e2-52db-4444-a9bd-5591df28b9cf",
   "metadata": {},
   "source": [
    "### Read from CSV"
   ]
  },
  {
   "cell_type": "code",
   "execution_count": null,
   "id": "7e1edcc3-788a-4d55-9885-03d4d1cc9502",
   "metadata": {},
   "outputs": [],
   "source": [
    "game_data = [pd.read_csv(f\"{name}.csv\") for name in boxscore_names]"
   ]
  },
  {
   "cell_type": "markdown",
   "id": "86af70e3-7159-421f-94f5-3268a82192a7",
   "metadata": {},
   "source": [
    "### Clean Tables\n",
    "#### Linescore"
   ]
  },
  {
   "cell_type": "code",
   "execution_count": null,
   "id": "d327962e-b376-403f-9fa9-57eac25ca35b",
   "metadata": {},
   "outputs": [],
   "source": [
    "def clean_linescore(linescore_raw: pd.DataFrame) -> pd.DataFrame:\n",
    "    \"\"\"Clean raw linescore.\"\"\"\n",
    "    linescore = linescore_raw.copy()\n",
    "\n",
    "    linescore = linescore.drop(columns=\"0\")\n",
    "    linescore.iloc[0, :3] = [\"team_name\", \"gamer_tag\", \"result\"]\n",
    "    linescore.columns = linescore.iloc[0]\n",
    "    linescore = linescore.drop(index=0).set_index(\"gamer_tag\")\n",
    "\n",
    "    cols_to_numeric = [\"R\", \"H\", \"E\"]\n",
    "    linescore[cols_to_numeric] = linescore[cols_to_numeric].apply(pd.to_numeric)\n",
    "    linescore.index.name = None\n",
    "\n",
    "    return linescore"
   ]
  },
  {
   "cell_type": "code",
   "execution_count": null,
   "id": "aada4f9e-266e-4f50-9aec-c9c3aacab497",
   "metadata": {},
   "outputs": [],
   "source": [
    "linescore_raw = game_data[0]\n",
    "linescore = clean_linescore(linescore_raw)\n",
    "linescore"
   ]
  },
  {
   "cell_type": "code",
   "execution_count": null,
   "id": "ef884224-323c-4735-b713-46ff86c2fe86",
   "metadata": {
    "tags": []
   },
   "outputs": [],
   "source": [
    "linescore.dtypes"
   ]
  },
  {
   "cell_type": "markdown",
   "id": "5c91d722-6c66-4d07-84e1-7660b884f226",
   "metadata": {},
   "source": [
    "#### Hitting Boxscores"
   ]
  },
  {
   "cell_type": "code",
   "execution_count": null,
   "id": "38822371-5495-415a-b84e-cb49f658db1a",
   "metadata": {},
   "outputs": [],
   "source": [
    "hitting_raw = game_data[1]\n",
    "hitting_raw"
   ]
  },
  {
   "cell_type": "markdown",
   "id": "28dc1971-344a-4720-a60c-48bdbda93444",
   "metadata": {},
   "source": [
    "#### Pitching Boxscores"
   ]
  },
  {
   "cell_type": "code",
   "execution_count": null,
   "id": "adde824d-d3dd-47bd-8c26-316dd0c6583d",
   "metadata": {},
   "outputs": [],
   "source": [
    "pitching_raw = game_data[2]\n",
    "pitching_raw"
   ]
  },
  {
   "cell_type": "code",
   "execution_count": null,
   "id": "98fc1174-7a8e-40eb-9c60-74f8f57aae67",
   "metadata": {},
   "outputs": [],
   "source": []
  }
 ],
 "metadata": {
  "kernelspec": {
   "display_name": "Python 3 (ipykernel)",
   "language": "python",
   "name": "python3"
  },
  "language_info": {
   "codemirror_mode": {
    "name": "ipython",
    "version": 3
   },
   "file_extension": ".py",
   "mimetype": "text/x-python",
   "name": "python",
   "nbconvert_exporter": "python",
   "pygments_lexer": "ipython3",
   "version": "3.11.0"
  }
 },
 "nbformat": 4,
 "nbformat_minor": 5
}
