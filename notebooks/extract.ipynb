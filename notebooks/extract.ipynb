{
 "cells": [
  {
   "cell_type": "code",
   "execution_count": null,
   "id": "c905ab28-22ca-462e-84a4-f27b8477be20",
   "metadata": {
    "tags": []
   },
   "outputs": [],
   "source": [
    "import logging\n",
    "import pickle\n",
    "import tomllib\n",
    "from pathlib import Path\n",
    "\n",
    "# import pendulum\n",
    "import pandas as pd\n",
    "from selectolax.parser import HTMLParser\n",
    "from splinter import Browser\n",
    "from splinter.driver.webdriver.chrome import WebDriver\n",
    "from webdriver_manager.chrome import ChromeDriverManager\n",
    "\n",
    "from classes import Gamer\n",
    "from utils import browser_action_with_element_presence_check"
   ]
  },
  {
   "cell_type": "markdown",
   "id": "8854e565-d1fa-4988-aae7-f8673ee6b309",
   "metadata": {},
   "source": [
    "## Initialize"
   ]
  },
  {
   "cell_type": "markdown",
   "id": "3fdf0b3f-5183-460b-ba5f-52a17f48dfc3",
   "metadata": {},
   "source": [
    "### Set Up Logging"
   ]
  },
  {
   "cell_type": "code",
   "execution_count": null,
   "id": "3e24afa6-ee24-428b-8fe3-42c2113c41a5",
   "metadata": {
    "tags": []
   },
   "outputs": [],
   "source": [
    "logging.basicConfig(\n",
    "    format=\"{levelname:8s} - {module} - {funcName}: {message}\", style=\"{\"\n",
    ")\n",
    "\n",
    "logger_main = logging.getLogger(__name__)\n",
    "# logger_main.setLevel(logging.DEBUG)"
   ]
  },
  {
   "cell_type": "markdown",
   "id": "354daa64-df0d-470b-be65-25aee08c2785",
   "metadata": {},
   "source": [
    "### Create Input Data"
   ]
  },
  {
   "cell_type": "code",
   "execution_count": null,
   "id": "84d2151a-cbab-43b3-93fb-aa1b1d974bbc",
   "metadata": {
    "tags": []
   },
   "outputs": [],
   "source": [
    "with open(Path().resolve().parents[0] / \"secrets.toml\", \"rb\") as f:\n",
    "    secrets = tomllib.load(f)\n",
    "\n",
    "gamers: list[Gamer] = [\n",
    "    Gamer(name, gamer_tag) for name, gamer_tag in secrets[\"gamer_ids\"].items()\n",
    "]"
   ]
  },
  {
   "cell_type": "markdown",
   "id": "c68d3781-5919-4515-9679-8988e579541e",
   "metadata": {
    "tags": []
   },
   "source": [
    "#### Create Browser Instance"
   ]
  },
  {
   "cell_type": "code",
   "execution_count": null,
   "id": "76ad53e0-9202-4923-93a0-d59c64f85e7d",
   "metadata": {
    "tags": []
   },
   "outputs": [],
   "source": [
    "# Set up Splinter (prep the automated browser).\n",
    "executable_path = {\"executable_path\": ChromeDriverManager().install()}\n",
    "browser: WebDriver = Browser(\"chrome\", **executable_path, headless=False)"
   ]
  },
  {
   "cell_type": "markdown",
   "id": "9ab6aa75-d403-4b17-a450-937ccd622581",
   "metadata": {},
   "source": [
    "## Extract"
   ]
  },
  {
   "cell_type": "markdown",
   "id": "cf261225-9c0f-49b6-ad50-5a02c61e1710",
   "metadata": {
    "tags": []
   },
   "source": [
    "### Main Scraping Function"
   ]
  },
  {
   "cell_type": "code",
   "execution_count": null,
   "id": "cc72187c-7e09-4b2a-8ed3-d8bd55a2cc80",
   "metadata": {
    "tags": []
   },
   "outputs": [],
   "source": [
    "# def scrape_game_history():\n",
    "#     # 3 loops.\n",
    "#     for gamer in gamers:\n",
    "#         visit(url)\n",
    "\n",
    "#         game_history = retrieve_game_history(browser)\n",
    "#         if not game_history:\n",
    "#             print(\"No game history\")\n",
    "\n",
    "#         # m games per n pages up until the crawler runs into an already seen game.\n",
    "#         for game in game_history:\n",
    "#             if is_cpu_game():\n",
    "#                 continue\n",
    "#             else:\n",
    "#                 collect()\n",
    "\n",
    "# def visit(url):\n",
    "#     browser_action(browser.visit, url=url)\n",
    "\n",
    "# def retrieve_game_history(browser):\n",
    "#     parsed_html = BeautifulSoup(browser.html, \"lxml\")\n",
    "#     return parsed_html.find_all(\"div\", attrs={\"class\": \"mlb22-games-box\"})"
   ]
  },
  {
   "cell_type": "markdown",
   "id": "d8e8272c-9f0f-4339-b264-413a8989f1c4",
   "metadata": {},
   "source": [
    "### Retrieve Individual Game Nodes"
   ]
  },
  {
   "cell_type": "markdown",
   "id": "daa0856f-b104-4473-827f-68e53dda90da",
   "metadata": {},
   "source": [
    "#### Visit Game History URL"
   ]
  },
  {
   "cell_type": "code",
   "execution_count": null,
   "id": "4c456f80-3f91-4210-bfc2-b690759f8bbb",
   "metadata": {
    "tags": []
   },
   "outputs": [],
   "source": [
    "is_game_history, _ = browser_action_with_element_presence_check(\n",
    "    browser.visit,\n",
    "    url=gamers[0].url,\n",
    "    css_selector=\"div.mlb22-games-box\",\n",
    "    browser=browser,\n",
    ")\n",
    "is_game_history"
   ]
  },
  {
   "cell_type": "markdown",
   "id": "107c40de-eded-40d5-833e-53d8585f125c",
   "metadata": {},
   "source": [
    "#### Retrieve Individual Game Nodes"
   ]
  },
  {
   "cell_type": "code",
   "execution_count": null,
   "id": "3b490a8a-55dd-48d4-b713-e4f5102cc2f5",
   "metadata": {
    "tags": []
   },
   "outputs": [],
   "source": [
    "if not is_game_history:\n",
    "    game_nodes = []\n",
    "else:\n",
    "    game_history_parser = HTMLParser(browser.html)\n",
    "    game_nodes = game_history_parser.css(\"div.mlb22-games-box\")"
   ]
  },
  {
   "cell_type": "markdown",
   "id": "66fe76fb-7adb-465f-b6c4-9655583671a5",
   "metadata": {},
   "source": [
    "### Individual Game Processing"
   ]
  },
  {
   "cell_type": "markdown",
   "id": "63505284-a3e9-454f-9be0-9d42d050dc6c",
   "metadata": {},
   "source": [
    "#### Create Parser for Individual Game on Game History Page"
   ]
  },
  {
   "cell_type": "code",
   "execution_count": null,
   "id": "bd251bfc-8bab-4864-b447-0ca390f9a1e6",
   "metadata": {},
   "outputs": [],
   "source": [
    "game_parser = HTMLParser(game_nodes[0].html)"
   ]
  },
  {
   "cell_type": "markdown",
   "id": "fc01bbbd-dde8-4608-b160-cb7383278dfc",
   "metadata": {},
   "source": [
    "#### Game Date"
   ]
  },
  {
   "cell_type": "code",
   "execution_count": null,
   "id": "c94fae16-9ed6-47f2-8be9-bcff43b801d2",
   "metadata": {
    "tags": []
   },
   "outputs": [],
   "source": [
    "date_p_tag = game_parser.css_first(\"p:nth-child(2)\")\n",
    "game_date = date_p_tag.text()\n",
    "game_date"
   ]
  },
  {
   "cell_type": "markdown",
   "id": "18cde9eb-6fa7-4c80-9977-6651f2508620",
   "metadata": {
    "tags": []
   },
   "source": [
    "#### View Game href"
   ]
  },
  {
   "cell_type": "code",
   "execution_count": null,
   "id": "b37cdd42-91de-42ef-b0cc-d06b23dfcf82",
   "metadata": {
    "tags": []
   },
   "outputs": [],
   "source": [
    "view_game_a_tag = game_parser.tags(\"a\")\n",
    "view_game_href = view_game_a_tag[-1].attributes[\"href\"]\n",
    "view_game_href"
   ]
  },
  {
   "cell_type": "markdown",
   "id": "e3439cd0-f825-4d29-868d-dffb62cbb76e",
   "metadata": {
    "tags": []
   },
   "source": [
    "#### Click the View Game Link"
   ]
  },
  {
   "cell_type": "code",
   "execution_count": null,
   "id": "a3896c55-33b0-406a-a06d-a61a1a606891",
   "metadata": {
    "tags": []
   },
   "outputs": [],
   "source": [
    "is_game_stats, _ = browser_action_with_element_presence_check(\n",
    "    browser.links.find_by_href(view_game_href).click,\n",
    "    css_selector=\"div.section-block\",\n",
    "    browser=browser,\n",
    ")\n",
    "is_game_stats"
   ]
  },
  {
   "cell_type": "markdown",
   "id": "d28a8406-4e0b-4c4b-a1cd-f5c0c670fdae",
   "metadata": {},
   "source": [
    "#### Create Parser for Individual Game Stats Page and Retrieve Stats Tables"
   ]
  },
  {
   "cell_type": "code",
   "execution_count": null,
   "id": "4d3f33e3-1079-4b77-ab70-6e4d7a6de606",
   "metadata": {
    "tags": []
   },
   "outputs": [],
   "source": [
    "game_stats_parser = HTMLParser(browser.html)\n",
    "# Retrieve game stats DataFrames\n",
    "game_boxscores = pd.read_html(game_stats_parser.html)\n",
    "len(game_boxscores)"
   ]
  },
  {
   "cell_type": "code",
   "execution_count": null,
   "id": "ecd23f2e-90d9-4509-90d9-9bddb20862cd",
   "metadata": {
    "tags": []
   },
   "outputs": [],
   "source": [
    "boxscore_names = [\n",
    "    \"linescore\",\n",
    "    \"away_hitting\",\n",
    "    \"away_pitching\",\n",
    "    \"home_hitting\",\n",
    "    \"home_pitching\",\n",
    "]"
   ]
  },
  {
   "cell_type": "markdown",
   "id": "4edc1fa2-7e90-4018-89eb-6a054a04a65a",
   "metadata": {},
   "source": [
    "### Write to CSV and Pickle Formats"
   ]
  },
  {
   "cell_type": "code",
   "execution_count": null,
   "id": "ca26407d-08b6-4d01-9db0-7899928c3387",
   "metadata": {
    "tags": []
   },
   "outputs": [],
   "source": [
    "base_path = Path(\"../data\").resolve()\n",
    "\n",
    "for name, boxscore in zip(boxscore_names, game_boxscores):\n",
    "    path = base_path / f\"{name}.csv\"\n",
    "    boxscore.to_csv(path, index=False)\n",
    "\n",
    "extract_vars = (game_stats_parser.html, boxscore_names, gamers)\n",
    "with open(base_path / \"extract_vars.pickle\", \"wb\") as f:\n",
    "    pickle.dump(extract_vars, f)"
   ]
  },
  {
   "cell_type": "markdown",
   "id": "7657f410-82d7-40f0-a6ba-7bfe5d6f47f7",
   "metadata": {},
   "source": [
    "### Read from CSV"
   ]
  },
  {
   "cell_type": "code",
   "execution_count": null,
   "id": "7e1edcc3-788a-4d55-9885-03d4d1cc9502",
   "metadata": {},
   "outputs": [],
   "source": [
    "game_boxscores = [pd.read_csv(f\"{name}.csv\") for name in boxscore_names]"
   ]
  }
 ],
 "metadata": {
  "kernelspec": {
   "display_name": "mlbTheShow",
   "language": "python",
   "name": "mlbtheshow"
  },
  "language_info": {
   "codemirror_mode": {
    "name": "ipython",
    "version": 3
   },
   "file_extension": ".py",
   "mimetype": "text/x-python",
   "name": "python",
   "nbconvert_exporter": "python",
   "pygments_lexer": "ipython3",
   "version": "3.11.0"
  }
 },
 "nbformat": 4,
 "nbformat_minor": 5
}
