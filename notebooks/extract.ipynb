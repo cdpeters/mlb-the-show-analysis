{
 "cells": [
  {
   "cell_type": "code",
   "execution_count": 1,
   "id": "c905ab28-22ca-462e-84a4-f27b8477be20",
   "metadata": {
    "tags": []
   },
   "outputs": [],
   "source": [
    "import time\n",
    "from dataclasses import dataclass, field\n",
    "\n",
    "# from pathlib import Path\n",
    "from typing import ClassVar\n",
    "\n",
    "# import pandas as pd\n",
    "from bs4 import BeautifulSoup\n",
    "from splinter import Browser\n",
    "from webdriver_manager.chrome import ChromeDriverManager"
   ]
  },
  {
   "cell_type": "code",
   "execution_count": 5,
   "id": "214dfc90-e0a4-412a-81ad-1ccf4cc5379a",
   "metadata": {
    "tags": []
   },
   "outputs": [],
   "source": [
    "@dataclass(frozen=True)\n",
    "class Gamer:\n",
    "    \"\"\"Gamer.\"\"\"\n",
    "\n",
    "    name: str\n",
    "    gamer_tag: str\n",
    "    url: str = field(init=False)\n",
    "    base_url: ClassVar[str] = \"https://mlb22.theshow.com/universal_profiles\"\n",
    "    endpoint: ClassVar[str] = \"game_history\"\n",
    "    query: ClassVar[str] = \"?mode=ARENA\"\n",
    "\n",
    "    def __post_init__(self) -> None:\n",
    "        \"\"\"Build the url.\"\"\"\n",
    "        self.url = f\"{self.base_url}/{self.gamer_tag}/{self.endpoint}{self.query}\""
   ]
  },
  {
   "cell_type": "code",
   "execution_count": 3,
   "id": "84d2151a-cbab-43b3-93fb-aa1b1d974bbc",
   "metadata": {
    "tags": []
   },
   "outputs": [],
   "source": [
    "gamers = {\n",
    "    \"chris\": \"cdp0089\",\n",
    "    \"kazem\": \"UOKazem\",\n",
    "    \"jalil\": \"jalidoost2424\",\n",
    "}\n",
    "chris, kazem, jalil = tuple(\n",
    "    [Gamer(name, gamer_tag) for name, gamer_tag in gamers.items()]\n",
    ")"
   ]
  },
  {
   "cell_type": "code",
   "execution_count": 4,
   "id": "183d2833-6656-4afd-ab8e-1e86471c2c41",
   "metadata": {
    "tags": []
   },
   "outputs": [
    {
     "name": "stdout",
     "output_type": "stream",
     "text": [
      "Gamer(name='chris', gamer_tag='cdp0089', url='https://mlb22.theshow.com/universal_profiles/cdp0089/game_history?mode=ARENA')\n",
      "Gamer(name='kazem', gamer_tag='UOKazem', url='https://mlb22.theshow.com/universal_profiles/UOKazem/game_history?mode=ARENA')\n",
      "Gamer(name='jalil', gamer_tag='jalidoost2424', url='https://mlb22.theshow.com/universal_profiles/jalidoost2424/game_history?mode=ARENA')\n"
     ]
    }
   ],
   "source": [
    "print(chris)\n",
    "print(kazem)\n",
    "print(jalil)"
   ]
  },
  {
   "cell_type": "code",
   "execution_count": 3,
   "id": "76ad53e0-9202-4923-93a0-d59c64f85e7d",
   "metadata": {
    "tags": []
   },
   "outputs": [],
   "source": [
    "# Set up Splinter (prep the automated browser).\n",
    "executable_path = {\"executable_path\": ChromeDriverManager().install()}\n",
    "browser = Browser(\"chrome\", **executable_path, headless=False)"
   ]
  },
  {
   "cell_type": "code",
   "execution_count": 4,
   "id": "9f44ea74-300a-45f7-9800-c16c5e23f0b0",
   "metadata": {
    "tags": []
   },
   "outputs": [],
   "source": [
    "# Use in time.sleep() to allow for pages and tables to load\n",
    "delay_time = 4"
   ]
  },
  {
   "cell_type": "code",
   "execution_count": 5,
   "id": "721b8945-332c-4556-b67b-7e47cd50352a",
   "metadata": {
    "tags": []
   },
   "outputs": [],
   "source": [
    "browser.visit(chris.url)\n",
    "# Delay to allow the page to load.\n",
    "time.sleep(delay_time)\n",
    "\n",
    "# Retrieve html.\n",
    "html = browser.html\n",
    "soup = BeautifulSoup(html, \"html.parser\")"
   ]
  },
  {
   "cell_type": "code",
   "execution_count": 12,
   "id": "4cb24d4d-9c75-4903-9098-cdac26fe3f27",
   "metadata": {
    "tags": []
   },
   "outputs": [],
   "source": [
    "games_meta_data = soup.find_all(\"div\", attrs={\"class\": \"mlb22-games-box\"})\n",
    "\n",
    "p_tags = games_meta_data[0].find_all(\"p\")\n",
    "game_date = p_tags[1].text\n",
    "\n",
    "table_rows = games_meta_data[0].find_all(\"tr\")\n",
    "table_rows.pop(0)\n",
    "\n",
    "game_teams = [row.find_all(\"td\")[1].text for row in table_rows]\n",
    "game_gamer_tags = [row.find_all(\"td\")[2].text.strip() for row in table_rows]\n",
    "if \"CPU\" in game_teams:\n",
    "    print(\"skip this box score\")\n",
    "\n",
    "# if (game_gamer_tags[0] in chris.gamer_tag.values()) and (\n",
    "#     game_gamer_tags[1] in gamer_tags.values()\n",
    "# ):\n",
    "#     print(\"this is a Head-To-Head game\")"
   ]
  },
  {
   "cell_type": "code",
   "execution_count": null,
   "id": "f697f443-7c59-4d72-bf29-9e57c16b27c9",
   "metadata": {},
   "outputs": [],
   "source": []
  }
 ],
 "metadata": {
  "kernelspec": {
   "display_name": "mlbTheShow",
   "language": "python",
   "name": "python3"
  },
  "language_info": {
   "codemirror_mode": {
    "name": "ipython",
    "version": 3
   },
   "file_extension": ".py",
   "mimetype": "text/x-python",
   "name": "python",
   "nbconvert_exporter": "python",
   "pygments_lexer": "ipython3",
   "version": "3.11.0"
  },
  "vscode": {
   "interpreter": {
    "hash": "6cc66de31d903331bcf7660215a2e7b71d2199cf39b2bf415e33ab71dc869dc1"
   }
  }
 },
 "nbformat": 4,
 "nbformat_minor": 5
}
