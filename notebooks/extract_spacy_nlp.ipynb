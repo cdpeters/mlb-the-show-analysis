{
 "cells": [
  {
   "cell_type": "code",
   "execution_count": null,
   "id": "16746dc7-cad7-4e67-8b56-59486714dba9",
   "metadata": {
    "tags": []
   },
   "outputs": [],
   "source": [
    "from pathlib import Path\n",
    "\n",
    "import spacy\n",
    "\n",
    "# from spacy import displacy"
   ]
  },
  {
   "cell_type": "code",
   "execution_count": null,
   "id": "e665a2c3-b03c-4fb4-9ecd-00e9c60fd041",
   "metadata": {
    "tags": []
   },
   "outputs": [],
   "source": [
    "base_path = Path(\"../data\").resolve()\n",
    "\n",
    "with open(base_path / \"game_log.txt\", \"r\") as file:\n",
    "    game_log = file.read()\n",
    "\n",
    "with open(base_path / \"game_log_weird_names.txt\", \"r\") as file:\n",
    "    game_log_weird_names = file.read()"
   ]
  },
  {
   "cell_type": "code",
   "execution_count": null,
   "id": "6f64733f-62f2-424a-831d-61d47f09e3d5",
   "metadata": {
    "tags": []
   },
   "outputs": [],
   "source": [
    "nlp = spacy.load(\"en_core_web_lg\")  # , exclude=[\"parser\"])\n",
    "# nlp.enable_pipe(\"senter\")\n",
    "\n",
    "# spacy.load('en_core_web_lg')"
   ]
  },
  {
   "cell_type": "code",
   "execution_count": null,
   "id": "fd843313-3f67-4fd8-9efb-531ee17cf376",
   "metadata": {
    "tags": []
   },
   "outputs": [],
   "source": [
    "nlp.pipeline"
   ]
  },
  {
   "cell_type": "code",
   "execution_count": null,
   "id": "bcddd8b4-dd9a-4592-aeb1-e9c305560546",
   "metadata": {
    "tags": []
   },
   "outputs": [],
   "source": [
    "# config = {\"punct_chars\": [\"..\"], \"overwrite\":True}\n",
    "# nlp.add_pipe(\"sentencizer\", config=config)"
   ]
  },
  {
   "cell_type": "code",
   "execution_count": null,
   "id": "78de240b-3aca-4b01-9ec0-360f19c03f06",
   "metadata": {
    "tags": []
   },
   "outputs": [],
   "source": [
    "nlp.pipeline"
   ]
  },
  {
   "cell_type": "code",
   "execution_count": null,
   "id": "244bc03a-8330-4481-9f46-825a10efb034",
   "metadata": {
    "tags": []
   },
   "outputs": [],
   "source": [
    "doc = nlp(game_log)"
   ]
  },
  {
   "cell_type": "code",
   "execution_count": null,
   "id": "d4fcaf68-69fb-40d5-b530-6b0c3bfe9949",
   "metadata": {
    "tags": []
   },
   "outputs": [],
   "source": [
    "for sent in doc.sents:\n",
    "    print(sent.text)"
   ]
  },
  {
   "cell_type": "code",
   "execution_count": null,
   "id": "706158eb-1c98-4be8-840d-2aad0b1c708a",
   "metadata": {
    "tags": []
   },
   "outputs": [],
   "source": [
    "sentence_spans = list(doc.sents)\n",
    "# displacy.render(sentence_spans, style=\"dep\")"
   ]
  },
  {
   "cell_type": "code",
   "execution_count": null,
   "id": "97d8a751-e6f9-45bb-8504-716bf3aa5bd4",
   "metadata": {},
   "outputs": [],
   "source": [
    "doc_weird_names = nlp(game_log_weird_names)"
   ]
  },
  {
   "cell_type": "code",
   "execution_count": null,
   "id": "c18ce5a5-c089-4257-8bae-2ee8ee4a735b",
   "metadata": {
    "tags": []
   },
   "outputs": [],
   "source": [
    "new_game_log = []\n",
    "for sent in doc_weird_names.sents:\n",
    "    sent_str = str(sent)\n",
    "    if \"..\" in sent_str:\n",
    "        splits = sent_str.split(\"..\")\n",
    "        for split in splits:\n",
    "            new_game_log.append(split)\n",
    "        continue\n",
    "    new_game_log.append(str(sent))"
   ]
  },
  {
   "cell_type": "code",
   "execution_count": null,
   "id": "6170097e-931b-4c7c-99ba-82bec48a3dfe",
   "metadata": {
    "tags": []
   },
   "outputs": [],
   "source": [
    "new_game_log"
   ]
  },
  {
   "cell_type": "code",
   "execution_count": null,
   "id": "4cbb498b-a4d8-4bd0-8cb7-3e5e88671140",
   "metadata": {},
   "outputs": [],
   "source": []
  }
 ],
 "metadata": {
  "kernelspec": {
   "display_name": "mlbTheShow",
   "language": "python",
   "name": "mlbtheshow"
  },
  "language_info": {
   "codemirror_mode": {
    "name": "ipython",
    "version": 3
   },
   "file_extension": ".py",
   "mimetype": "text/x-python",
   "name": "python",
   "nbconvert_exporter": "python",
   "pygments_lexer": "ipython3",
   "version": "3.11.0"
  }
 },
 "nbformat": 4,
 "nbformat_minor": 5
}
