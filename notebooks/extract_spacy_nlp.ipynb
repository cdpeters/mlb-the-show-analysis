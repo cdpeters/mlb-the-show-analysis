{
 "cells": [
  {
   "cell_type": "code",
   "execution_count": 1,
   "id": "16746dc7-cad7-4e67-8b56-59486714dba9",
   "metadata": {
    "tags": []
   },
   "outputs": [],
   "source": [
    "from pathlib import Path\n",
    "\n",
    "import spacy\n",
    "\n",
    "# from spacy import displacy"
   ]
  },
  {
   "cell_type": "code",
   "execution_count": 2,
   "id": "e665a2c3-b03c-4fb4-9ecd-00e9c60fd041",
   "metadata": {
    "tags": []
   },
   "outputs": [],
   "source": [
    "with open(Path(\"game_log.txt\"), \"r\") as file:\n",
    "    game_log = file.read()\n",
    "\n",
    "with open(Path(\"game_log_weird_names.txt\"), \"r\") as file:\n",
    "    game_log_weird_names = file.read()"
   ]
  },
  {
   "cell_type": "code",
   "execution_count": 3,
   "id": "6f64733f-62f2-424a-831d-61d47f09e3d5",
   "metadata": {
    "tags": []
   },
   "outputs": [],
   "source": [
    "nlp = spacy.load(\"en_core_web_lg\")  # , exclude=[\"parser\"])\n",
    "# nlp.enable_pipe(\"senter\")\n",
    "\n",
    "# spacy.load('en_core_web_lg')"
   ]
  },
  {
   "cell_type": "code",
   "execution_count": 4,
   "id": "fd843313-3f67-4fd8-9efb-531ee17cf376",
   "metadata": {
    "tags": []
   },
   "outputs": [
    {
     "data": {
      "text/plain": [
       "[('tok2vec', <spacy.pipeline.tok2vec.Tok2Vec at 0x29116a60f50>),\n",
       " ('tagger', <spacy.pipeline.tagger.Tagger at 0x29116a61730>),\n",
       " ('parser', <spacy.pipeline.dep_parser.DependencyParser at 0x29116950d60>),\n",
       " ('attribute_ruler',\n",
       "  <spacy.pipeline.attributeruler.AttributeRuler at 0x29117b78550>),\n",
       " ('lemmatizer', <spacy.lang.en.lemmatizer.EnglishLemmatizer at 0x29117bf3710>),\n",
       " ('ner', <spacy.pipeline.ner.EntityRecognizer at 0x29116950ba0>)]"
      ]
     },
     "execution_count": 4,
     "metadata": {},
     "output_type": "execute_result"
    }
   ],
   "source": [
    "nlp.pipeline"
   ]
  },
  {
   "cell_type": "code",
   "execution_count": 5,
   "id": "bcddd8b4-dd9a-4592-aeb1-e9c305560546",
   "metadata": {
    "tags": []
   },
   "outputs": [],
   "source": [
    "# config = {\"punct_chars\": [\"..\"], \"overwrite\":True}\n",
    "# nlp.add_pipe(\"sentencizer\", config=config)"
   ]
  },
  {
   "cell_type": "code",
   "execution_count": 6,
   "id": "78de240b-3aca-4b01-9ec0-360f19c03f06",
   "metadata": {
    "tags": []
   },
   "outputs": [
    {
     "data": {
      "text/plain": [
       "[('tok2vec', <spacy.pipeline.tok2vec.Tok2Vec at 0x29116a60f50>),\n",
       " ('tagger', <spacy.pipeline.tagger.Tagger at 0x29116a61730>),\n",
       " ('parser', <spacy.pipeline.dep_parser.DependencyParser at 0x29116950d60>),\n",
       " ('attribute_ruler',\n",
       "  <spacy.pipeline.attributeruler.AttributeRuler at 0x29117b78550>),\n",
       " ('lemmatizer', <spacy.lang.en.lemmatizer.EnglishLemmatizer at 0x29117bf3710>),\n",
       " ('ner', <spacy.pipeline.ner.EntityRecognizer at 0x29116950ba0>)]"
      ]
     },
     "execution_count": 6,
     "metadata": {},
     "output_type": "execute_result"
    }
   ],
   "source": [
    "nlp.pipeline"
   ]
  },
  {
   "cell_type": "code",
   "execution_count": 7,
   "id": "244bc03a-8330-4481-9f46-825a10efb034",
   "metadata": {
    "tags": []
   },
   "outputs": [],
   "source": [
    "doc = nlp(game_log)"
   ]
  },
  {
   "cell_type": "code",
   "execution_count": 8,
   "id": "d4fcaf68-69fb-40d5-b530-6b0c3bfe9949",
   "metadata": {
    "tags": []
   },
   "outputs": [
    {
     "name": "stdout",
     "output_type": "stream",
     "text": [
      "Inning 9: Fat Goonz batting.\n",
      "Edmonds grounded out to Ruth.\n",
      "Turner lined to right for a single.\n",
      "Gonzalez sacrificed to Ruth.\n",
      "Turner advances to 2nd.\n",
      "Bagwell grounded out to Cabrera.\n",
      "Beasts batting.\n",
      "Rollins grounded out to Turner.\n",
      "Rutschman doubled to right.\n",
      "Strider struck out chasing a low slider.\n",
      "Trout homered to left.\n",
      "Rutschman scores.\n",
      "Inning 8: Fat Goonz batting.\n",
      "Machado struck out chasing a slider low and away.\n",
      "Alvarez grounded out to Rollins.\n",
      "Strider grounded out to Rollins.\n",
      "Beasts batting.\n",
      "Mantle chopped to the pitcher for a single.\n",
      "Ruth struck out chasing an inside slider.\n",
      "Cabrera flied out to Gonzalez.\n",
      "Ramirez flied out to Edmonds.\n",
      "Inning 7: Fat Goonz batting.\n",
      "Bagwell lined out to Trout.\n",
      "Larkin was called out on strikes looking on a fastball high and away.\n",
      "Stargell struck out chasing a slider low and in.\n",
      "Beasts batting.\n",
      "Ramirez homered to right.\n",
      "Rollins grounded to third baseman for a single.\n",
      "Rutschman struck out chasing a low changeup.\n",
      "Strider reached first on a fielding error by Strider.\n",
      "Rollins advances to 2nd.\n",
      "Trout struck out chasing a high fastball.\n",
      "Reynolds popped out to Turner.\n",
      "Inning 6: Fat Goonz batting.\n",
      "Edmonds popped out to Rutschman.\n",
      "Turner was called out on strikes looking on a changeup low and away.\n",
      "Gonzalez struck out chasing an inside slider.\n",
      "Beasts batting.\n",
      "Trout grounded to left for a single.\n",
      "Reynolds was called out on strikes looking on an inside changeup.\n",
      "Mantle lined to left for a single.\n",
      "Trout advances to 2nd.\n",
      "Ruth flied out to Stargell.\n",
      "Cabrera grounded out to Machado.\n",
      "Mantle out.\n",
      "Inning 5: Fat Goonz batting.\n",
      "Machado struck out chasing a fastball high and in.\n",
      "Alvarez lined out to Reynolds.\n",
      "Strider flied out to Mantle.\n",
      "Beasts batting.\n",
      "Rollins grounded out to Larkin.\n",
      "Rutschman was called out on strikes looking on an inside changeup.\n",
      "Strider popped out to Bagwell.\n",
      "Inning 4: Fat Goonz batting.\n",
      "Gonzalez struck out chasing an outside changeup.\n",
      "Bagwell struck out chasing a changeup low and in.\n",
      "Larkin tripled to right.\n",
      "Stargell struck out chasing a changeup low and in.\n",
      "Beasts batting.\n",
      "Mantle struck out chasing an inside fastball.\n",
      "Ruth lined to right for a single.\n",
      "Cabrera struck out chasing a slider low and away.\n",
      "Ramirez flied out to Stargell.\n",
      "Inning 3: Fat Goonz batting.\n",
      "Alvarez struck out chasing a slider low and away.\n",
      "Strider flied out to Reynolds.\n",
      "Griffey Jr. walked.\n",
      "Turner popped out to Rollins.\n",
      "Beasts batting.\n",
      "Strider struck out swinging late at a low fastball.\n",
      "Trout struck out chasing a low slider.\n",
      "Reynolds struck out on an inside changeup.\n",
      "Inning 2: Fat Goonz batting.\n",
      "Bagwell struck out chasing a fastball high and in.\n",
      "Larkin grounded out to Ramirez.\n",
      "Stargell homered to right.\n",
      "Machado struck out swinging late at a changeup low and in.\n",
      "Beasts batting.\n",
      "Cabrera lined out to Edmonds.\n",
      "Ramirez was called out on strikes looking on a slider low and away.\n",
      "Rollins walked.\n",
      "Rutschman was called out on strikes looking on a changeup down the middle.\n",
      "Inning 1: Fat Goonz batting.\n",
      "Strider pitching.\n",
      "Edmonds grounded out to Strider.\n",
      "Turner struck out chasing a fastball high and in.\n",
      "Gonzalez flied out to Reynolds.\n",
      "Beasts batting.\n",
      "Strider pitching.\n",
      "Trout struck out swinging early at a slider down the middle.\n",
      "Reynolds doubled to left.\n",
      "Mantle struck out on an inside changeup.\n",
      "Ruth struck out chasing a slider low and in.\n"
     ]
    }
   ],
   "source": [
    "for sent in doc.sents:\n",
    "    print(sent.text)"
   ]
  },
  {
   "cell_type": "code",
   "execution_count": 9,
   "id": "706158eb-1c98-4be8-840d-2aad0b1c708a",
   "metadata": {
    "tags": []
   },
   "outputs": [],
   "source": [
    "sentence_spans = list(doc.sents)\n",
    "# displacy.render(sentence_spans, style=\"dep\")"
   ]
  },
  {
   "cell_type": "code",
   "execution_count": 10,
   "id": "97d8a751-e6f9-45bb-8504-716bf3aa5bd4",
   "metadata": {},
   "outputs": [],
   "source": [
    "doc_weird_names = nlp(game_log_weird_names)"
   ]
  },
  {
   "cell_type": "code",
   "execution_count": 39,
   "id": "c18ce5a5-c089-4257-8bae-2ee8ee4a735b",
   "metadata": {
    "tags": []
   },
   "outputs": [],
   "source": [
    "new_game_log = []\n",
    "for sent in doc_weird_names.sents:\n",
    "    sent_str = str(sent)\n",
    "    if \"..\" in sent_str:\n",
    "        splits = sent_str.split(\"..\")\n",
    "        for split in splits:\n",
    "            new_game_log.append(split)\n",
    "        continue\n",
    "    new_game_log.append(str(sent))"
   ]
  },
  {
   "cell_type": "code",
   "execution_count": 41,
   "id": "6170097e-931b-4c7c-99ba-82bec48a3dfe",
   "metadata": {
    "tags": []
   },
   "outputs": [
    {
     "data": {
      "text/plain": [
       "['Inning 9: Fat Goonz batting.',\n",
       " 'Buehler pitching.',\n",
       " 'Del Pozo pinch hit for De La Cruz.',\n",
       " 'Del Pozo popped out to Guerrero Jr',\n",
       " ' Griffey Sr. flied out to Rodriguez.',\n",
       " 'VanMeter grounded to right for a single.',\n",
       " 'Griffey Jr. pinch hit for LeMahieu.',\n",
       " 'Griffey Jr. was intentionally walked.',\n",
       " 'St John pinch hit for Smith Njigba.',\n",
       " 'St John struck out chasing a low curveball.',\n",
       " 'Inning 8: Fat Goonz batting.',\n",
       " 'De Jong in bullpen.',\n",
       " 'T-Williams pinch hit for Kiner-Falefa.',\n",
       " 'T-Williams grounded out to Crawford.',\n",
       " \"d'Arnaud lined to center for a single.\",\n",
       " \"De Los Santos pinch hit for O'Day.\",\n",
       " \"d'Arnaud stole 2nd.\",\n",
       " 'De Los Santos sacrificed to Guerrero Jr',\n",
       " \" d'Arnaud advances to 3rd.\",\n",
       " 'DeShields Jr. grounded out to Weaver.',\n",
       " 'plustwo batting.',\n",
       " 'T-Williams substituted for Kiner-Falefa.',\n",
       " 'Durham pinch hit for Weaver.',\n",
       " 'Ponce de Leon in bullpen.',\n",
       " 'Durham struck out on a changeup low and in.',\n",
       " 'Ramirez grounded to center for a single.',\n",
       " 'Ramirez reached 2nd on a wild pitch.',\n",
       " 'Rutschman bunted to third baseman for a single.',\n",
       " 'Ramirez advances to 3rd.',\n",
       " 'Guerrero Jr. walked.',\n",
       " 'Ponce de Leon pitching.',\n",
       " 'Freeman hit a sacrifice fly to Smith Njigba.',\n",
       " 'Ramirez scores.',\n",
       " 'Rutschman advances to 3rd.',\n",
       " 'Guerrero hit to left for a single.',\n",
       " 'Guerrero Jr. out.',\n",
       " 'Inning 7: Fat Goonz batting.',\n",
       " 'VanMeter pinch hit for Cron.',\n",
       " 'VanMeter was called out on strikes looking on a curveball down the middle.',\n",
       " 'LeMahieu grounded out to Guerrero Jr',\n",
       " ' Smith Njigba pinch hit for Crow-Armstrong.',\n",
       " 'Smith Njigba popped out to Weaver. plustwo batting.',\n",
       " 'VanMeter substituted for Cron. Smith Njigba substituted for Crow-Armstrong.',\n",
       " 'St John in bullpen.',\n",
       " 'Montes de Oca in bullpen.',\n",
       " 'Freeman doubled.',\n",
       " 'Guerrero lined out to VanMeter.',\n",
       " 'Crawford lined out to DeShields Jr',\n",
       " ' Freeman advances to 3rd.',\n",
       " 'Greene grounded to center for a single.',\n",
       " 'Freeman scores.',\n",
       " \"O'Day pitching.\",\n",
       " 'Rodriguez grounded out to Kiner-Falefa.',\n",
       " 'Inning 6: Fat Goonz batting.',\n",
       " \"d'Arnaud grounded to right for a single.\",\n",
       " 'WoodsRichardson flied out to Rodriguez.',\n",
       " 'DeShields Jr. pinch hit for Taylor.',\n",
       " 'DeShields Jr. struck out on a slider down the middle.',\n",
       " 'De La Cruz doubled to center.',\n",
       " \"d'Arnaud advances to 3rd.\",\n",
       " 'Griffey Sr. struck out chasing a changeup low and in.',\n",
       " 'plustwo batting.',\n",
       " 'DeShields Jr. substituted for Taylor.',\n",
       " 'Ramirez flied out to DeShields Jr',\n",
       " ' Ryu pitching.',\n",
       " 'Rutschman flied out to Crow-Armstrong.',\n",
       " 'Guerrero Jr. flied out to DeShields Jr',\n",
       " ' Inning 5: Fat Goonz batting.',\n",
       " 'LeMahieu struck out swinging late at a fastball high and in.',\n",
       " 'Crow-Armstrong lined to center for a single.',\n",
       " 'Crow-Armstrong stole 2nd.',\n",
       " 'Crow-Armstrong stole 3rd.',\n",
       " 'Kiner-Falefa struck out swinging late at a slider low and away.',\n",
       " \"d'Arnaud at bat\",\n",
       " '',\n",
       " 'Crow-Armstrong out.',\n",
       " 'plustwo batting.',\n",
       " 'Greene reached first on a fielding error by Kiner-Falefa.',\n",
       " 'WoodsRichardson pitching.',\n",
       " 'Rodriguez grounded into a double play.',\n",
       " 'Greene out.',\n",
       " \"Weaver popped out to d'Arnaud.\",\n",
       " 'Inning 4: Fat Goonz batting.',\n",
       " 'Ryu in bullpen.',\n",
       " 'WoodsRichardson in bullpen.',\n",
       " 'Taylor flied out to Guerrero.',\n",
       " 'De La Cruz homered to right.',\n",
       " 'Griffey Sr. flied out to Rodriguez.',\n",
       " 'Cron struck out chasing a curveball low and in.',\n",
       " 'plustwo batting.',\n",
       " 'Freeman struck out chasing a changeup low and in.',\n",
       " 'Guerrero flied out to Griffey Sr',\n",
       " ' Crawford grounded out to LeMahieu.',\n",
       " 'Inning 3: Fat Goonz batting.',\n",
       " 'Kiner-Falefa lined out to Rodriguez.',\n",
       " \"d'Arnaud grounded out to Guerrero Jr\",\n",
       " '',\n",
       " 'McClanahan struck out chasing a sinker low and in.',\n",
       " 'plustwo batting.',\n",
       " 'Ryu in bullpen.',\n",
       " 'Romero in bullpen.',\n",
       " 'Ramirez struck out swinging late at a fastball high and in.',\n",
       " 'Rutschman flied out to Taylor.',\n",
       " 'Romero pitching.',\n",
       " 'Guerrero Jr. grounded out to LeMahieu.',\n",
       " 'Inning 2: Fat Goonz batting.',\n",
       " 'Cron flied out to Rodriguez.',\n",
       " 'LeMahieu grounded out to Ramirez.',\n",
       " 'Crow-Armstrong flied out to Greene.',\n",
       " 'plustwo batting.',\n",
       " 'Greene grounded out to De La Cruz.',\n",
       " 'Rodriguez struck out chasing a fastball high and in.',\n",
       " 'Weaver popped out to Cron.',\n",
       " 'Inning 1: Fat Goonz batting.',\n",
       " 'Weaver pitching.',\n",
       " 'Taylor lined out to Freeman.',\n",
       " 'De La Cruz grounded out to Crawford.',\n",
       " 'Griffey Sr. grounded out to Ramirez.',\n",
       " 'plustwo batting.',\n",
       " 'McClanahan pitching.',\n",
       " 'Ramirez grounded to right for a single.',\n",
       " 'Rutschman doubled to center.',\n",
       " 'Ramirez advances to 3rd.',\n",
       " 'Guerrero Jr. was intentionally walked.',\n",
       " 'Freeman struck out chasing a fastball high and in.',\n",
       " 'Guerrero struck out chasing a changeup high and away.',\n",
       " 'Crawford grounded out to Kiner-Falefa.']"
      ]
     },
     "execution_count": 41,
     "metadata": {},
     "output_type": "execute_result"
    }
   ],
   "source": [
    "new_game_log"
   ]
  },
  {
   "cell_type": "code",
   "execution_count": 35,
   "id": "30027f37-8679-41e6-9374-48d5cc3cf660",
   "metadata": {
    "tags": []
   },
   "outputs": [],
   "source": [
    "new_game_log = [line.split(\"..\") for line in new_game_log if \"..\" in line]"
   ]
  },
  {
   "cell_type": "code",
   "execution_count": 36,
   "id": "88d4997e-35d9-43c0-8177-dd5b675e6f82",
   "metadata": {
    "tags": []
   },
   "outputs": [
    {
     "data": {
      "text/plain": [
       "[['Del Pozo popped out to Guerrero Jr',\n",
       "  ' Griffey Sr. flied out to Rodriguez.'],\n",
       " ['De Los Santos sacrificed to Guerrero Jr', \" d'Arnaud advances to 3rd.\"],\n",
       " ['LeMahieu grounded out to Guerrero Jr',\n",
       "  ' Smith Njigba pinch hit for Crow-Armstrong.'],\n",
       " ['Crawford lined out to DeShields Jr', ' Freeman advances to 3rd.'],\n",
       " ['Ramirez flied out to DeShields Jr', ' Ryu pitching.'],\n",
       " ['Guerrero Jr. flied out to DeShields Jr', ' Inning 5: Fat Goonz batting.'],\n",
       " [\"d'Arnaud at bat\", ''],\n",
       " ['Guerrero flied out to Griffey Sr', ' Crawford grounded out to LeMahieu.'],\n",
       " [\"d'Arnaud grounded out to Guerrero Jr\", '']]"
      ]
     },
     "execution_count": 36,
     "metadata": {},
     "output_type": "execute_result"
    }
   ],
   "source": [
    "new_game_log"
   ]
  },
  {
   "cell_type": "code",
   "execution_count": null,
   "id": "4cbb498b-a4d8-4bd0-8cb7-3e5e88671140",
   "metadata": {},
   "outputs": [],
   "source": []
  }
 ],
 "metadata": {
  "kernelspec": {
   "display_name": "mlbTheShow",
   "language": "python",
   "name": "mlbtheshow"
  },
  "language_info": {
   "codemirror_mode": {
    "name": "ipython",
    "version": 3
   },
   "file_extension": ".py",
   "mimetype": "text/x-python",
   "name": "python",
   "nbconvert_exporter": "python",
   "pygments_lexer": "ipython3",
   "version": "3.11.0"
  }
 },
 "nbformat": 4,
 "nbformat_minor": 5
}
